{
 "cells": [
  {
   "cell_type": "code",
   "execution_count": 14,
   "id": "b77ab9ed",
   "metadata": {},
   "outputs": [
    {
     "name": "stdout",
     "output_type": "stream",
     "text": [
      "Requirement already satisfied: openai in c:\\users\\siva\\anaconda3\\lib\\site-packages (0.28.0)\n",
      "Requirement already satisfied: requests>=2.20 in c:\\users\\siva\\anaconda3\\lib\\site-packages (from openai) (2.28.1)\n",
      "Requirement already satisfied: aiohttp in c:\\users\\siva\\anaconda3\\lib\\site-packages (from openai) (3.9.3)\n",
      "Requirement already satisfied: tqdm in c:\\users\\siva\\anaconda3\\lib\\site-packages (from openai) (4.64.1)\n",
      "Requirement already satisfied: idna<4,>=2.5 in c:\\users\\siva\\anaconda3\\lib\\site-packages (from requests>=2.20->openai) (3.4)\n",
      "Requirement already satisfied: charset-normalizer<3,>=2 in c:\\users\\siva\\anaconda3\\lib\\site-packages (from requests>=2.20->openai) (2.0.4)\n",
      "Requirement already satisfied: urllib3<1.27,>=1.21.1 in c:\\users\\siva\\anaconda3\\lib\\site-packages (from requests>=2.20->openai) (1.26.13)\n",
      "Requirement already satisfied: certifi>=2017.4.17 in c:\\users\\siva\\anaconda3\\lib\\site-packages (from requests>=2.20->openai) (2022.12.7)\n",
      "Requirement already satisfied: yarl<2.0,>=1.0 in c:\\users\\siva\\anaconda3\\lib\\site-packages (from aiohttp->openai) (1.9.4)\n",
      "Requirement already satisfied: aiosignal>=1.1.2 in c:\\users\\siva\\anaconda3\\lib\\site-packages (from aiohttp->openai) (1.3.1)\n",
      "Requirement already satisfied: async-timeout<5.0,>=4.0 in c:\\users\\siva\\anaconda3\\lib\\site-packages (from aiohttp->openai) (4.0.3)\n",
      "Requirement already satisfied: multidict<7.0,>=4.5 in c:\\users\\siva\\anaconda3\\lib\\site-packages (from aiohttp->openai) (6.0.5)\n",
      "Requirement already satisfied: frozenlist>=1.1.1 in c:\\users\\siva\\anaconda3\\lib\\site-packages (from aiohttp->openai) (1.4.1)\n",
      "Requirement already satisfied: attrs>=17.3.0 in c:\\users\\siva\\anaconda3\\lib\\site-packages (from aiohttp->openai) (22.1.0)\n",
      "Requirement already satisfied: colorama in c:\\users\\siva\\anaconda3\\lib\\site-packages (from tqdm->openai) (0.4.5)\n",
      "Note: you may need to restart the kernel to use updated packages.\n"
     ]
    }
   ],
   "source": [
    "pip install openai"
   ]
  },
  {
   "cell_type": "code",
   "execution_count": 18,
   "id": "0e2ec17f",
   "metadata": {},
   "outputs": [],
   "source": [
    "import openai"
   ]
  },
  {
   "cell_type": "code",
   "execution_count": 19,
   "id": "449c65e8",
   "metadata": {},
   "outputs": [],
   "source": [
    "api_key = open(\"apikey.txt\",\"r\").read()\n",
    "openai.api_key = api_key"
   ]
  },
  {
   "cell_type": "code",
   "execution_count": 31,
   "id": "ff493874",
   "metadata": {},
   "outputs": [
    {
     "name": "stdout",
     "output_type": "stream",
     "text": [
      "User: Hi \n",
      "ChatCompletion(id='chatcmpl-8v1yezCkkZoeoMKJiQRhqU15exNgl', choices=[Choice(finish_reason='stop', index=0, logprobs=None, message=ChatCompletionMessage(content='I am here to provide you with expert healthcare advice. Please let me know how I can assist you today.', role='assistant', function_call=None, tool_calls=None))], created=1708602988, model='gpt-3.5-turbo-0125', object='chat.completion', system_fingerprint='fp_cbdb91ce3f', usage=CompletionUsage(completion_tokens=22, prompt_tokens=25, total_tokens=47))\n",
      "\n",
      "\n",
      "Assistant: I am here to provide you with expert healthcare advice. Please let me know how I can assist you today.\n",
      "User: My name is siva\n",
      "ChatCompletion(id='chatcmpl-8v1yoRvD1qqa7Io9zg1lLDKPjm7qU', choices=[Choice(finish_reason='stop', index=0, logprobs=None, message=ChatCompletionMessage(content=\"As a healthcare specialist, I am here to assist you with expert advice and guidance. Please feel free to share any health concerns or questions you may have so that I can provide you with the support you need. Your health and well-being are important, and I am dedicated to helping you navigate any health-related issues you may be facing. Let's work together to address your needs and promote a healthy lifestyle.\", role='assistant', function_call=None, tool_calls=None))], created=1708602998, model='gpt-3.5-turbo-0125', object='chat.completion', system_fingerprint='fp_cbdb91ce3f', usage=CompletionUsage(completion_tokens=81, prompt_tokens=73, total_tokens=154))\n",
      "\n",
      "\n",
      "Assistant: As a healthcare specialist, I am here to assist you with expert advice and guidance. Please feel free to share any health concerns or questions you may have so that I can provide you with the support you need. Your health and well-being are important, and I am dedicated to helping you navigate any health-related issues you may be facing. Let's work together to address your needs and promote a healthy lifestyle.\n",
      "User: WHat is my name\n",
      "ChatCompletion(id='chatcmpl-8v1yzLVMWsPIArDgEl1ZNHGaWSDV1', choices=[Choice(finish_reason='stop', index=0, logprobs=None, message=ChatCompletionMessage(content=\"I'm here to provide you with expert healthcare advice and support. Please share any health-related questions or concerns you may have so that I can assist you effectively. Your well-being is a top priority, and I am committed to helping you achieve optimal health and wellness. Let's work together to address your needs and develop a personalized plan for your holistic care.\", role='assistant', function_call=None, tool_calls=None))], created=1708603009, model='gpt-3.5-turbo-0125', object='chat.completion', system_fingerprint='fp_cbdb91ce3f', usage=CompletionUsage(completion_tokens=71, prompt_tokens=180, total_tokens=251))\n",
      "\n",
      "\n",
      "Assistant: I'm here to provide you with expert healthcare advice and support. Please share any health-related questions or concerns you may have so that I can assist you effectively. Your well-being is a top priority, and I am committed to helping you achieve optimal health and wellness. Let's work together to address your needs and develop a personalized plan for your holistic care.\n",
      "User: exit\n"
     ]
    }
   ],
   "source": [
    "chat_log = []\n",
    "while True:\n",
    "    user_msg = input(\"User: \")\n",
    "    if(user_msg.lower() == 'exit'):\n",
    "        break\n",
    "    chat_log.append({\"role\": \"user\", \"content\": \"Answer the question as a healthcare specialist in less than 100 words: '{user_msg}'\"})\n",
    "    res = openai.chat.completions.create(model = \"gpt-3.5-turbo\", messages = chat_log)\n",
    "    print(res)\n",
    "    print()\n",
    "    print()\n",
    "    refined_res = res.choices[0].message.content\n",
    "    print(\"Assistant:\", refined_res.strip(\"\\n\").strip())\n",
    "    chat_log.append({\"role\": \"user\", \"content\": refined_res.strip(\"\\n\").strip()})"
   ]
  },
  {
   "cell_type": "code",
   "execution_count": 29,
   "id": "b5ec22e0",
   "metadata": {},
   "outputs": [
    {
     "name": "stdout",
     "output_type": "stream",
     "text": [
      "Assistant: As a healthcare specialist, it is important to evaluate your symptoms and seek medical attention if you are experiencing any concerning health issues. It is always better to be safe than sorry when it comes to your health. I recommend scheduling an appointment with your healthcare provider to discuss your symptoms and determine the best course of action for treatment. Your health is important, so don't hesitate to reach out for help.\n"
     ]
    }
   ],
   "source": [
    "refined_res = res.choices[0].message.content\n",
    "print(\"Assistant:\", refined_res.strip(\"\\n\").strip())\n",
    "chat_log.append({\"role\": \"user\", \"content\": refined_res.strip(\"\\n\").strip()})"
   ]
  },
  {
   "cell_type": "code",
   "execution_count": 32,
   "id": "c61de271",
   "metadata": {},
   "outputs": [
    {
     "data": {
      "text/plain": [
       "[{'role': 'user',\n",
       "  'content': \"Answer the question as a healthcare specialist in less than 100 words: '{user_msg}'\"},\n",
       " {'role': 'user',\n",
       "  'content': 'I am here to provide you with expert healthcare advice. Please let me know how I can assist you today.'},\n",
       " {'role': 'user',\n",
       "  'content': \"Answer the question as a healthcare specialist in less than 100 words: '{user_msg}'\"},\n",
       " {'role': 'user',\n",
       "  'content': \"As a healthcare specialist, I am here to assist you with expert advice and guidance. Please feel free to share any health concerns or questions you may have so that I can provide you with the support you need. Your health and well-being are important, and I am dedicated to helping you navigate any health-related issues you may be facing. Let's work together to address your needs and promote a healthy lifestyle.\"},\n",
       " {'role': 'user',\n",
       "  'content': \"Answer the question as a healthcare specialist in less than 100 words: '{user_msg}'\"},\n",
       " {'role': 'user',\n",
       "  'content': \"I'm here to provide you with expert healthcare advice and support. Please share any health-related questions or concerns you may have so that I can assist you effectively. Your well-being is a top priority, and I am committed to helping you achieve optimal health and wellness. Let's work together to address your needs and develop a personalized plan for your holistic care.\"}]"
      ]
     },
     "execution_count": 32,
     "metadata": {},
     "output_type": "execute_result"
    }
   ],
   "source": [
    "chat_log"
   ]
  },
  {
   "cell_type": "code",
   "execution_count": null,
   "id": "76c7453d",
   "metadata": {},
   "outputs": [],
   "source": []
  }
 ],
 "metadata": {
  "kernelspec": {
   "display_name": "Python 3 (ipykernel)",
   "language": "python",
   "name": "python3"
  },
  "language_info": {
   "codemirror_mode": {
    "name": "ipython",
    "version": 3
   },
   "file_extension": ".py",
   "mimetype": "text/x-python",
   "name": "python",
   "nbconvert_exporter": "python",
   "pygments_lexer": "ipython3",
   "version": "3.9.13"
  }
 },
 "nbformat": 4,
 "nbformat_minor": 5
}
