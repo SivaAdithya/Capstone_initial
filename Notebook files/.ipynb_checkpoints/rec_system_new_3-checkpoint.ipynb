{
 "cells": [
  {
   "cell_type": "code",
   "execution_count": 2,
   "id": "05ed56a9",
   "metadata": {},
   "outputs": [],
   "source": [
    "from datasets import load_dataset\n",
    "\n",
    "dataset = load_dataset(\"lavita/ChatDoctor-HealthCareMagic-100k\")"
   ]
  },
  {
   "cell_type": "code",
   "execution_count": 7,
   "id": "182d17d9",
   "metadata": {},
   "outputs": [],
   "source": [
    "data = dataset['train'][0:500]"
   ]
  },
  {
   "cell_type": "code",
   "execution_count": 51,
   "id": "92f89e26",
   "metadata": {},
   "outputs": [],
   "source": [
    "test1 = dataset['train'][500:600]"
   ]
  },
  {
   "cell_type": "code",
   "execution_count": 16,
   "id": "f629daf9",
   "metadata": {},
   "outputs": [],
   "source": [
    "import logging\n",
    "\n",
    "from simpletransformers.question_answering import QuestionAnsweringModel, QuestionAnsweringArgs"
   ]
  },
  {
   "cell_type": "code",
   "execution_count": 17,
   "id": "a9614768",
   "metadata": {},
   "outputs": [],
   "source": [
    "model_type=\"bert\"\n",
    "model_name= \"bert-base-cased\""
   ]
  },
  {
   "cell_type": "code",
   "execution_count": 18,
   "id": "2abbd0fc",
   "metadata": {},
   "outputs": [],
   "source": [
    "# Configure the model \n",
    "model_args = QuestionAnsweringArgs()\n",
    "model_args.train_batch_size = 16\n",
    "model_args.evaluate_during_training = True\n",
    "model_args.n_best_size=3\n",
    "model_args.num_train_epochs=5"
   ]
  },
  {
   "cell_type": "code",
   "execution_count": 31,
   "id": "900acc46",
   "metadata": {},
   "outputs": [],
   "source": [
    "train_args = {\n",
    "    \"reprocess_input_data\": True,\n",
    "    \"overwrite_output_dir\": True,\n",
    "    \"use_cached_eval_features\": True,\n",
    "    \"output_dir\": f\"outputs/{model_type}\",\n",
    "    \"best_model_dir\": f\"outputs/{model_type}/best_model\",\n",
    "    \"evaluate_during_training\": True,\n",
    "    \"max_seq_length\": 128,\n",
    "    \"num_train_epochs\": 5,\n",
    "    \"evaluate_during_training_steps\": 1000,\n",
    "    \"wandb_project\": \"Question Answer Application\",\n",
    "    \"wandb_kwargs\": {\"name\": model_name},\n",
    "    \"save_model_every_epoch\": False,\n",
    "    \"save_eval_checkpoints\": False,\n",
    "    \"n_best_size\":3,\n",
    "    \"use_early_stopping\": True,\n",
    "    \"early_stopping_metric\": \"mcc\",\n",
    "    \"train_batch_size\": 128,\n",
    "    \"eval_batch_size\": 64\n",
    "}"
   ]
  },
  {
   "cell_type": "code",
   "execution_count": 32,
   "id": "f0533564",
   "metadata": {},
   "outputs": [
    {
     "name": "stderr",
     "output_type": "stream",
     "text": [
      "Some weights of BertForQuestionAnswering were not initialized from the model checkpoint at bert-base-cased and are newly initialized: ['qa_outputs.bias', 'qa_outputs.weight']\n",
      "You should probably TRAIN this model on a down-stream task to be able to use it for predictions and inference.\n"
     ]
    },
    {
     "data": {
      "application/vnd.jupyter.widget-view+json": {
       "model_id": "e927c4d2107741089496a9c8c2469231",
       "version_major": 2,
       "version_minor": 0
      },
      "text/plain": [
       "tokenizer_config.json:   0%|          | 0.00/49.0 [00:00<?, ?B/s]"
      ]
     },
     "metadata": {},
     "output_type": "display_data"
    },
    {
     "data": {
      "application/vnd.jupyter.widget-view+json": {
       "model_id": "927968b2f90b41ac9d773c2b2e3f2a7e",
       "version_major": 2,
       "version_minor": 0
      },
      "text/plain": [
       "vocab.txt:   0%|          | 0.00/213k [00:00<?, ?B/s]"
      ]
     },
     "metadata": {},
     "output_type": "display_data"
    },
    {
     "data": {
      "application/vnd.jupyter.widget-view+json": {
       "model_id": "0454de52be974caf8672cb9bddcefc51",
       "version_major": 2,
       "version_minor": 0
      },
      "text/plain": [
       "tokenizer.json:   0%|          | 0.00/436k [00:00<?, ?B/s]"
      ]
     },
     "metadata": {},
     "output_type": "display_data"
    }
   ],
   "source": [
    "\n",
    "model = QuestionAnsweringModel(\n",
    "    model_type,model_name, args=train_args, use_cuda = False\n",
    ")"
   ]
  },
  {
   "cell_type": "code",
   "execution_count": 54,
   "id": "5382e173",
   "metadata": {},
   "outputs": [],
   "source": [
    "a = data['instruction']\n",
    "b = data['input']\n",
    "c = data['output']\n",
    "train = []\n",
    "for i in range(500):\n",
    "    temp = {}\n",
    "    temp['context'] = a[i]\n",
    "    temp['input'] = b[i]\n",
    "    temp['output'] = c[i]\n",
    "    train.append(temp)"
   ]
  },
  {
   "cell_type": "code",
   "execution_count": 55,
   "id": "c74c9684",
   "metadata": {},
   "outputs": [],
   "source": [
    "a = test1['instruction']\n",
    "b = test1['input']\n",
    "c = test1['output']\n",
    "test = []\n",
    "for i in range(100):\n",
    "    temp = {}\n",
    "    temp['context'] = a[i]\n",
    "    temp['input'] = b[i]\n",
    "    temp['output'] = c[i]\n",
    "    test.append(temp)"
   ]
  },
  {
   "cell_type": "code",
   "execution_count": 56,
   "id": "925db985",
   "metadata": {},
   "outputs": [
    {
     "ename": "KeyError",
     "evalue": "'qas'",
     "output_type": "error",
     "traceback": [
      "\u001b[1;31m---------------------------------------------------------------------------\u001b[0m",
      "\u001b[1;31mKeyError\u001b[0m                                  Traceback (most recent call last)",
      "\u001b[1;32m~\\AppData\\Local\\Temp\\ipykernel_1624\\3446046997.py\u001b[0m in \u001b[0;36m<module>\u001b[1;34m\u001b[0m\n\u001b[1;32m----> 1\u001b[1;33m \u001b[0mmodel\u001b[0m\u001b[1;33m.\u001b[0m\u001b[0mtrain_model\u001b[0m\u001b[1;33m(\u001b[0m\u001b[0mtrain\u001b[0m\u001b[1;33m,\u001b[0m \u001b[0meval_data\u001b[0m\u001b[1;33m=\u001b[0m\u001b[0mtest\u001b[0m\u001b[1;33m)\u001b[0m\u001b[1;33m\u001b[0m\u001b[1;33m\u001b[0m\u001b[0m\n\u001b[0m",
      "\u001b[1;32m~\\anaconda3\\lib\\site-packages\\simpletransformers\\question_answering\\question_answering_model.py\u001b[0m in \u001b[0;36mtrain_model\u001b[1;34m(self, train_data, output_dir, show_running_loss, args, eval_data, verbose, **kwargs)\u001b[0m\n\u001b[0;32m    446\u001b[0m                 \u001b[0mtrain_examples\u001b[0m \u001b[1;33m=\u001b[0m \u001b[0mtrain_data\u001b[0m\u001b[1;33m\u001b[0m\u001b[1;33m\u001b[0m\u001b[0m\n\u001b[0;32m    447\u001b[0m \u001b[1;33m\u001b[0m\u001b[0m\n\u001b[1;32m--> 448\u001b[1;33m             \u001b[0mtrain_dataset\u001b[0m \u001b[1;33m=\u001b[0m \u001b[0mself\u001b[0m\u001b[1;33m.\u001b[0m\u001b[0mload_and_cache_examples\u001b[0m\u001b[1;33m(\u001b[0m\u001b[0mtrain_examples\u001b[0m\u001b[1;33m)\u001b[0m\u001b[1;33m\u001b[0m\u001b[1;33m\u001b[0m\u001b[0m\n\u001b[0m\u001b[0;32m    449\u001b[0m \u001b[1;33m\u001b[0m\u001b[0m\n\u001b[0;32m    450\u001b[0m         \u001b[0mos\u001b[0m\u001b[1;33m.\u001b[0m\u001b[0mmakedirs\u001b[0m\u001b[1;33m(\u001b[0m\u001b[0moutput_dir\u001b[0m\u001b[1;33m,\u001b[0m \u001b[0mexist_ok\u001b[0m\u001b[1;33m=\u001b[0m\u001b[1;32mTrue\u001b[0m\u001b[1;33m)\u001b[0m\u001b[1;33m\u001b[0m\u001b[1;33m\u001b[0m\u001b[0m\n",
      "\u001b[1;32m~\\anaconda3\\lib\\site-packages\\simpletransformers\\question_answering\\question_answering_model.py\u001b[0m in \u001b[0;36mload_and_cache_examples\u001b[1;34m(self, examples, evaluate, no_cache, output_examples)\u001b[0m\n\u001b[0;32m    286\u001b[0m             \u001b[0mos\u001b[0m\u001b[1;33m.\u001b[0m\u001b[0mmakedirs\u001b[0m\u001b[1;33m(\u001b[0m\u001b[0mself\u001b[0m\u001b[1;33m.\u001b[0m\u001b[0margs\u001b[0m\u001b[1;33m.\u001b[0m\u001b[0mcache_dir\u001b[0m\u001b[1;33m,\u001b[0m \u001b[0mexist_ok\u001b[0m\u001b[1;33m=\u001b[0m\u001b[1;32mTrue\u001b[0m\u001b[1;33m)\u001b[0m\u001b[1;33m\u001b[0m\u001b[1;33m\u001b[0m\u001b[0m\n\u001b[0;32m    287\u001b[0m \u001b[1;33m\u001b[0m\u001b[0m\n\u001b[1;32m--> 288\u001b[1;33m         \u001b[0mexamples\u001b[0m \u001b[1;33m=\u001b[0m \u001b[0mget_examples\u001b[0m\u001b[1;33m(\u001b[0m\u001b[0mexamples\u001b[0m\u001b[1;33m,\u001b[0m \u001b[0mis_training\u001b[0m\u001b[1;33m=\u001b[0m\u001b[1;32mnot\u001b[0m \u001b[0mevaluate\u001b[0m\u001b[1;33m)\u001b[0m\u001b[1;33m\u001b[0m\u001b[1;33m\u001b[0m\u001b[0m\n\u001b[0m\u001b[0;32m    289\u001b[0m \u001b[1;33m\u001b[0m\u001b[0m\n\u001b[0;32m    290\u001b[0m         \u001b[0mmode\u001b[0m \u001b[1;33m=\u001b[0m \u001b[1;34m\"dev\"\u001b[0m \u001b[1;32mif\u001b[0m \u001b[0mevaluate\u001b[0m \u001b[1;32melse\u001b[0m \u001b[1;34m\"train\"\u001b[0m\u001b[1;33m\u001b[0m\u001b[1;33m\u001b[0m\u001b[0m\n",
      "\u001b[1;32m~\\anaconda3\\lib\\site-packages\\simpletransformers\\question_answering\\question_answering_utils.py\u001b[0m in \u001b[0;36mget_examples\u001b[1;34m(examples_to_process, is_training, version_2_with_negative)\u001b[0m\n\u001b[0;32m    140\u001b[0m     \u001b[1;32mfor\u001b[0m \u001b[0mparagraph\u001b[0m \u001b[1;32min\u001b[0m \u001b[0mexamples_to_process\u001b[0m\u001b[1;33m:\u001b[0m\u001b[1;33m\u001b[0m\u001b[1;33m\u001b[0m\u001b[0m\n\u001b[0;32m    141\u001b[0m         \u001b[0mcontext_text\u001b[0m \u001b[1;33m=\u001b[0m \u001b[0mparagraph\u001b[0m\u001b[1;33m[\u001b[0m\u001b[1;34m\"context\"\u001b[0m\u001b[1;33m]\u001b[0m\u001b[1;33m\u001b[0m\u001b[1;33m\u001b[0m\u001b[0m\n\u001b[1;32m--> 142\u001b[1;33m         \u001b[1;32mfor\u001b[0m \u001b[0mqa\u001b[0m \u001b[1;32min\u001b[0m \u001b[0mparagraph\u001b[0m\u001b[1;33m[\u001b[0m\u001b[1;34m\"qas\"\u001b[0m\u001b[1;33m]\u001b[0m\u001b[1;33m:\u001b[0m\u001b[1;33m\u001b[0m\u001b[1;33m\u001b[0m\u001b[0m\n\u001b[0m\u001b[0;32m    143\u001b[0m             \u001b[0mqas_id\u001b[0m \u001b[1;33m=\u001b[0m \u001b[0mqa\u001b[0m\u001b[1;33m[\u001b[0m\u001b[1;34m\"id\"\u001b[0m\u001b[1;33m]\u001b[0m\u001b[1;33m\u001b[0m\u001b[1;33m\u001b[0m\u001b[0m\n\u001b[0;32m    144\u001b[0m             \u001b[0mquestion_text\u001b[0m \u001b[1;33m=\u001b[0m \u001b[0mqa\u001b[0m\u001b[1;33m[\u001b[0m\u001b[1;34m\"question\"\u001b[0m\u001b[1;33m]\u001b[0m\u001b[1;33m\u001b[0m\u001b[1;33m\u001b[0m\u001b[0m\n",
      "\u001b[1;31mKeyError\u001b[0m: 'qas'"
     ]
    }
   ],
   "source": [
    "model.train_model(train, eval_data=test)"
   ]
  },
  {
   "cell_type": "code",
   "execution_count": null,
   "id": "3cbf7e57",
   "metadata": {},
   "outputs": [],
   "source": []
  }
 ],
 "metadata": {
  "kernelspec": {
   "display_name": "Python 3 (ipykernel)",
   "language": "python",
   "name": "python3"
  },
  "language_info": {
   "codemirror_mode": {
    "name": "ipython",
    "version": 3
   },
   "file_extension": ".py",
   "mimetype": "text/x-python",
   "name": "python",
   "nbconvert_exporter": "python",
   "pygments_lexer": "ipython3",
   "version": "3.9.13"
  }
 },
 "nbformat": 4,
 "nbformat_minor": 5
}
